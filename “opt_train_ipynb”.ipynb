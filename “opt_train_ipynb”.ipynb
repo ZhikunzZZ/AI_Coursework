{
 "cells": [
  {
   "cell_type": "markdown",
   "id": "anticipated-consumer",
   "metadata": {
    "id": "anticipated-consumer"
   },
   "source": [
    "In this assignment, we are going to implement see if we can optimally select a subset of training instances for supervised learning."
   ]
  },
  {
   "cell_type": "code",
   "execution_count": 2,
   "id": "higher-nebraska",
   "metadata": {
    "id": "higher-nebraska"
   },
   "outputs": [
    {
     "name": "stdout",
     "output_type": "stream",
     "text": [
      "WARNING:tensorflow:From E:\\anaconda\\lib\\site-packages\\keras\\src\\losses.py:2976: The name tf.losses.sparse_softmax_cross_entropy is deprecated. Please use tf.compat.v1.losses.sparse_softmax_cross_entropy instead.\n",
      "\n"
     ]
    }
   ],
   "source": [
    "import numpy as np\n",
    "from tensorflow import keras\n",
    "from tensorflow.keras import layers"
   ]
  },
  {
   "cell_type": "markdown",
   "id": "daily-internship",
   "metadata": {
    "id": "daily-internship"
   },
   "source": [
    "We are going to work with the MNIST dataset, a popular dataset for hand-written digit recognition. Here we load the datatset."
   ]
  },
  {
   "cell_type": "code",
   "execution_count": 3,
   "id": "palestinian-texas",
   "metadata": {
    "colab": {
     "base_uri": "https://localhost:8080/"
    },
    "id": "palestinian-texas",
    "outputId": "c87288a8-f064-43b7-963d-b90b3980de2c"
   },
   "outputs": [
    {
     "name": "stdout",
     "output_type": "stream",
     "text": [
      "x_train shape: (60000, 28, 28, 1)\n",
      "Loaded 60000 train samples\n",
      "Loaded 10000 test samples\n"
     ]
    }
   ],
   "source": [
    "# Model / data parameters\n",
    "num_classes = 10\n",
    "input_shape = (28, 28, 1)\n",
    "\n",
    "# Load the data and split it between train and test sets\n",
    "(x_train, y_train), (x_test, y_test) = keras.datasets.mnist.load_data()\n",
    "\n",
    "# Scale images to the [0, 1] range\n",
    "x_train = x_train.astype(\"float32\") / 255\n",
    "x_test = x_test.astype(\"float32\") / 255\n",
    "# Make sure images have shape (28, 28, 1)\n",
    "x_train = np.expand_dims(x_train, -1)\n",
    "x_test = np.expand_dims(x_test, -1)\n",
    "print(\"x_train shape:\", x_train.shape)\n",
    "print(\"Loaded {} train samples\".format(x_train.shape[0]))\n",
    "print(\"Loaded {} test samples\".format(x_test.shape[0]))\n"
   ]
  },
  {
   "cell_type": "markdown",
   "id": "empty-desert",
   "metadata": {
    "id": "empty-desert"
   },
   "source": [
    "Now corrupt the labels with common types of mistakes. The variable 'noise_probability' controls the amount of errors introduced."
   ]
  },
  {
   "cell_type": "code",
   "execution_count": 4,
   "id": "champion-technician",
   "metadata": {
    "colab": {
     "base_uri": "https://localhost:8080/"
    },
    "id": "champion-technician",
    "outputId": "ec38bf6b-4615-4417-bf1d-9db88df7714a",
    "scrolled": true
   },
   "outputs": [
    {
     "name": "stdout",
     "output_type": "stream",
     "text": [
      "Corruptions: {'5->6': 2666, '0->2': 2917, '4->1': 2888, '1->1': 3385, '9->0': 2997, '2->3': 2969, '3->5': 3027, '7->1': 3204, '8->9': 2911, '6->8': 2960}\n",
      "Number of corruptions: 29934\n"
     ]
    }
   ],
   "source": [
    "import random\n",
    "noise_probability = 0.5\n",
    "SEED = 314159\n",
    "\n",
    "\n",
    "random.seed(SEED)\n",
    "\n",
    "\n",
    "\n",
    "def index(array, item):\n",
    "    for i in range(len(array)):\n",
    "        if item == array[i]:\n",
    "            return i\n",
    "    return -1\n",
    "\n",
    "def corrupt_label(y, y_index, err):\n",
    "    n = len(err)\n",
    "    # select an element at random (index != found)\n",
    "    if (y_index == n-1):\n",
    "        noisy_label = err[0]\n",
    "    else:\n",
    "        noisy_label = err[(y_index + 1)%n]\n",
    "    #noisy_label = random.choice(err)\n",
    "    #if (noisy_label == y):\n",
    "    #    noisy_label = err[(found + 1)%len(err)]\n",
    "    return noisy_label\n",
    "\n",
    "# We corrupt the MNIST data with some common mistakes, such as 3-->8, 8-->3, 1-->{4, 7}, 5-->6 etc.\n",
    "def corrupt_labels(y_train, noise_probability):\n",
    "    num_samples = y_train.shape[0]\n",
    "    err_es_1 = np.array([0, 2, 3, 5, 6, 8, 9])\n",
    "    err_es_2 = np.array([1, 4, 7])\n",
    "\n",
    "    corruptions = {}\n",
    "    corrupted_indexes = {}\n",
    "\n",
    "    for i in range(num_samples):\n",
    "        p = random.random()\n",
    "\n",
    "        if p < noise_probability:\n",
    "            y = y_train[i]\n",
    "\n",
    "            y_index = index(err_es_1, y)\n",
    "            if y_index >= 0:\n",
    "                y_noisy = corrupt_label(y, y_index, err_es_1)\n",
    "            else:\n",
    "                y_noisy = corrupt_label(y, y_index, err_es_2)\n",
    "\n",
    "\n",
    "\n",
    "            key = str(y_train[i]) + '->' + str(y_noisy)\n",
    "            corrupted_indexes[i] = i\n",
    "\n",
    "            if key in corruptions:\n",
    "                corruptions[key] += 1\n",
    "            else:\n",
    "                corruptions[key] = 0\n",
    "\n",
    "            y_train[i] = y_noisy\n",
    "\n",
    "    return corruptions, corrupted_indexes\n",
    "\n",
    "corruptions, corrupted_indexes = corrupt_labels(y_train, noise_probability)\n",
    "print (\"Corruptions: \" + str(corruptions))\n",
    "print (\"Number of corruptions: {}\".format(len(list(corrupted_indexes.keys()))))"
   ]
  },
  {
   "cell_type": "code",
   "execution_count": 5,
   "id": "quality-gauge",
   "metadata": {
    "id": "quality-gauge"
   },
   "outputs": [],
   "source": [
    "# convert class vectors to binary class matrices\n",
    "y_train_onehot = keras.utils.to_categorical(y_train, num_classes)\n",
    "y_test_onehot = keras.utils.to_categorical(y_test, num_classes)"
   ]
  },
  {
   "cell_type": "markdown",
   "id": "fifth-celebrity",
   "metadata": {
    "id": "fifth-celebrity"
   },
   "source": [
    "Supervised (parametric) training with the (noisy) labeled examples. Note that this model is trained on the entire dataset (the value of the parameter pruned_indexes is null here, which means that we leave out no points), which is noisy (20% of the labels are corrupted). Now the question is: is this the best model that we can train or can we do better?"
   ]
  },
  {
   "cell_type": "code",
   "execution_count": 6,
   "id": "extreme-ethernet",
   "metadata": {
    "colab": {
     "base_uri": "https://localhost:8080/"
    },
    "id": "extreme-ethernet",
    "outputId": "69cd963b-b044-437b-ef55-c38c22b65d78"
   },
   "outputs": [
    {
     "name": "stdout",
     "output_type": "stream",
     "text": [
      "WARNING:tensorflow:From E:\\anaconda\\lib\\site-packages\\keras\\src\\backend.py:1398: The name tf.executing_eagerly_outside_functions is deprecated. Please use tf.compat.v1.executing_eagerly_outside_functions instead.\n",
      "\n",
      "WARNING:tensorflow:From E:\\anaconda\\lib\\site-packages\\keras\\src\\layers\\pooling\\max_pooling2d.py:161: The name tf.nn.max_pool is deprecated. Please use tf.nn.max_pool2d instead.\n",
      "\n",
      "Model: \"sequential\"\n",
      "_________________________________________________________________\n",
      " Layer (type)                Output Shape              Param #   \n",
      "=================================================================\n",
      " conv2d (Conv2D)             (None, 26, 26, 32)        320       \n",
      "                                                                 \n",
      " max_pooling2d (MaxPooling2  (None, 13, 13, 32)        0         \n",
      " D)                                                              \n",
      "                                                                 \n",
      " flatten (Flatten)           (None, 5408)              0         \n",
      "                                                                 \n",
      " dropout (Dropout)           (None, 5408)              0         \n",
      "                                                                 \n",
      " dense (Dense)               (None, 10)                54090     \n",
      "                                                                 \n",
      "=================================================================\n",
      "Total params: 54410 (212.54 KB)\n",
      "Trainable params: 54410 (212.54 KB)\n",
      "Non-trainable params: 0 (0.00 Byte)\n",
      "_________________________________________________________________\n",
      "WARNING:tensorflow:From E:\\anaconda\\lib\\site-packages\\keras\\src\\optimizers\\__init__.py:309: The name tf.train.Optimizer is deprecated. Please use tf.compat.v1.train.Optimizer instead.\n",
      "\n"
     ]
    }
   ],
   "source": [
    "batch_size = 128\n",
    "epochs = 3\n",
    "validation_split=0.1\n",
    "\n",
    "\n",
    "model = keras.Sequential(\n",
    "    [\n",
    "        keras.Input(shape=input_shape),\n",
    "        layers.Conv2D(32, kernel_size=(3, 3), activation=\"relu\"),\n",
    "        layers.MaxPooling2D(pool_size=(2, 2)),\n",
    "        layers.Flatten(),\n",
    "        layers.Dropout(0.5),\n",
    "        layers.Dense(num_classes, activation=\"softmax\"),\n",
    "    ]\n",
    ")\n",
    "model.summary()\n",
    "model.compile(loss=\"categorical_crossentropy\", optimizer=\"adam\", metrics=[\"accuracy\"])\n",
    "\n",
    "def prune_points(x_train, y_train, pruned_indexes):\n",
    "    num_samples = x_train.shape[0]\n",
    "    x_train_pruned = []\n",
    "    y_train_pruned = []\n",
    "    for i in range(num_samples):\n",
    "        if not i in pruned_indexes:\n",
    "            x_train_pruned.append(x_train[i])\n",
    "            y_train_pruned.append(y_train[i])\n",
    "\n",
    "    return np.array(x_train_pruned), np.array(y_train_pruned)\n",
    "\n",
    "def trainAndEvaluateModel(x_train, y_train, x_test, y_test, model, pruned_indexes):\n",
    "\n",
    "    if not pruned_indexes == None:\n",
    "        x_train_pruned, y_train_pruned = prune_points(x_train, y_train, pruned_indexes)\n",
    "    else:\n",
    "        x_train_pruned = x_train\n",
    "        y_train_pruned = y_train\n",
    "\n",
    "    model.fit(x_train_pruned, y_train_pruned, batch_size=batch_size, epochs=epochs)\n",
    "    model.evaluate(x_test, y_test)\n",
    "    keras.backend.clear_session() # remove previous training weights\n"
   ]
  },
  {
   "cell_type": "markdown",
   "id": "indie-waterproof",
   "metadata": {
    "id": "indie-waterproof"
   },
   "source": [
    "And we call the following function to train a model on the entire dataset and evaluate it on the test set. The accuracy on the test set is quite good, but can we do better?"
   ]
  },
  {
   "cell_type": "code",
   "execution_count": 7,
   "id": "embedded-staff",
   "metadata": {
    "colab": {
     "base_uri": "https://localhost:8080/"
    },
    "id": "embedded-staff",
    "outputId": "368fada8-6e55-4a58-cf59-e9af1a342992"
   },
   "outputs": [
    {
     "name": "stdout",
     "output_type": "stream",
     "text": [
      "Epoch 1/3\n",
      "WARNING:tensorflow:From E:\\anaconda\\lib\\site-packages\\keras\\src\\utils\\tf_utils.py:492: The name tf.ragged.RaggedTensorValue is deprecated. Please use tf.compat.v1.ragged.RaggedTensorValue instead.\n",
      "\n",
      "WARNING:tensorflow:From E:\\anaconda\\lib\\site-packages\\keras\\src\\engine\\base_layer_utils.py:384: The name tf.executing_eagerly_outside_functions is deprecated. Please use tf.compat.v1.executing_eagerly_outside_functions instead.\n",
      "\n",
      "469/469 [==============================] - 3s 5ms/step - loss: 1.1183 - accuracy: 0.4909\n",
      "Epoch 2/3\n",
      "469/469 [==============================] - 2s 5ms/step - loss: 0.8984 - accuracy: 0.5332\n",
      "Epoch 3/3\n",
      "469/469 [==============================] - 2s 5ms/step - loss: 0.8592 - accuracy: 0.5394\n",
      "313/313 [==============================] - 0s 1ms/step - loss: 0.7740 - accuracy: 0.5923\n"
     ]
    }
   ],
   "source": [
    "trainAndEvaluateModel(x_train, y_train_onehot, x_test, y_test_onehot, model, None)"
   ]
  },
  {
   "cell_type": "markdown",
   "id": "structured-lithuania",
   "metadata": {
    "id": "structured-lithuania"
   },
   "source": [
    "You need to implement a subset selection function that when called will return a subset of instances which will be used to train the model. This setup ensures that you also pass in another dictionary which contains the indexes of the instances that you would not want to use while training the model, i.e., it should contain a list of indexes that you would decide to **leave out** for training.\n",
    "\n",
    "Here's the code and a sample implementation that returns a randomly chosen set of instances that you are to be left out. Since we chose 70% probability of label corruption (check the **noise_probability** parameter), we also select a subset where we leave out the same proportion of points. This is a baseline implementation and obviously you should aim to achieve better results than this."
   ]
  },
  {
   "cell_type": "code",
   "execution_count": 8,
   "id": "unique-operator",
   "metadata": {
    "id": "unique-operator"
   },
   "outputs": [],
   "source": [
    "# Here 'x_train', 'y_train' and model' are an unused parameters. But you may get better results by leveraging these.\n",
    "def baseLinePrunedSubsetMethod(x_train, y_train, model):\n",
    "    pruned_indexes = {}\n",
    "    num_samples = x_train.shape[0]\n",
    "    for i in range(num_samples):\n",
    "        p = random.random()\n",
    "\n",
    "        if p < noise_probability: # this is the global variable (only useful for this naive approach)\n",
    "            pruned_indexes[i] = i\n",
    "    return pruned_indexes"
   ]
  },
  {
   "cell_type": "markdown",
   "id": "stunning-steel",
   "metadata": {
    "id": "stunning-steel"
   },
   "source": [
    "Let's see how this naive baseline works."
   ]
  },
  {
   "cell_type": "code",
   "execution_count": 9,
   "id": "formed-refrigerator",
   "metadata": {
    "colab": {
     "base_uri": "https://localhost:8080/"
    },
    "id": "formed-refrigerator",
    "outputId": "089b5b21-fdec-4fd7-d3ad-0aede1ca0c3b"
   },
   "outputs": [
    {
     "name": "stdout",
     "output_type": "stream",
     "text": [
      "Epoch 1/3\n",
      "237/237 [==============================] - 1s 5ms/step - loss: 0.8361 - accuracy: 0.5481\n",
      "Epoch 2/3\n",
      "237/237 [==============================] - 1s 5ms/step - loss: 0.8206 - accuracy: 0.5595\n",
      "Epoch 3/3\n",
      "237/237 [==============================] - 1s 5ms/step - loss: 0.8097 - accuracy: 0.5620\n",
      "313/313 [==============================] - 0s 1ms/step - loss: 0.7873 - accuracy: 0.5409\n"
     ]
    }
   ],
   "source": [
    "pruned_indexes = baseLinePrunedSubsetMethod(x_train, y_train, model)\n",
    "trainAndEvaluateModel(x_train, y_train_onehot, x_test, y_test_onehot, model, pruned_indexes)"
   ]
  },
  {
   "cell_type": "markdown",
   "id": "backed-cache",
   "metadata": {
    "id": "backed-cache"
   },
   "source": [
    "Let's now see if we had known what points were actually corrupted (more of a hypothetical unrealistic situation), does leaving out those points actually improve the model's effectiveness. It turns out that it does!"
   ]
  },
  {
   "cell_type": "code",
   "execution_count": 10,
   "id": "amino-orientation",
   "metadata": {
    "colab": {
     "base_uri": "https://localhost:8080/"
    },
    "id": "amino-orientation",
    "outputId": "41a5c706-bddb-4e2d-d134-433580da6b30"
   },
   "outputs": [
    {
     "name": "stdout",
     "output_type": "stream",
     "text": [
      "Epoch 1/3\n",
      "235/235 [==============================] - 1s 5ms/step - loss: 0.2191 - accuracy: 0.9336\n",
      "Epoch 2/3\n",
      "235/235 [==============================] - 1s 5ms/step - loss: 0.1350 - accuracy: 0.9623\n",
      "Epoch 3/3\n",
      "235/235 [==============================] - 1s 5ms/step - loss: 0.1162 - accuracy: 0.9671\n",
      "313/313 [==============================] - 0s 1ms/step - loss: 0.0902 - accuracy: 0.9738\n"
     ]
    }
   ],
   "source": [
    "trainAndEvaluateModel(x_train, y_train_onehot, x_test, y_test_onehot, model, corrupted_indexes)"
   ]
  },
  {
   "cell_type": "markdown",
   "id": "bright-constitutional",
   "metadata": {
    "id": "bright-constitutional"
   },
   "source": [
    "Your task is to implement your own version of (say of name **myPrunedSubsetMethod** (which should take as arguments x_train, y_train, and the model). The function should return a dictionary of indexes that are to be left out. Plug your function in and evaluate the results. Write a thorough report on the methodology and analyse the results.\n",
    "\n",
    "Some hints:\n",
    "You can approach this as a discrete state space optimisation problem, where firstly you can define a \"selection batch size\" (this is not the same as training batch size), which decides which batch of instances you're going to leave out. For instance, if you are in a state where the training set is $X$, you may select (by some heuristics) which points you're gonna leave out (let that set be $\\delta \\subset X$) so that a child state becomes $X' = X - \\delta$. Similarly, if you choose a different $\\delta$ you get a different child state. You then need to train and evaluate (call the function *trainAndEvaluateModel*) to see if that child state led to an improvement or not.\n",
    "\n",
    "You are free to use any algorithm, e.g., simulated annealing, A* search, genetic algorithm etc. to implement this discrete state space optimisation."
   ]
  },
  {
   "cell_type": "code",
   "execution_count": 64,
   "id": "bea576fc",
   "metadata": {},
   "outputs": [
    {
     "name": "stdout",
     "output_type": "stream",
     "text": [
      "329/329 [==============================] - 2s 6ms/step - loss: 0.6321 - accuracy: 0.6619 - val_loss: 0.5997 - val_accuracy: 0.6691\n",
      "563/563 [==============================] - 1s 1ms/step\n",
      "302/302 [==============================] - 2s 6ms/step - loss: 0.6171 - accuracy: 0.6712 - val_loss: 0.5952 - val_accuracy: 0.6698\n",
      "563/563 [==============================] - 1s 1ms/step\n",
      "276/276 [==============================] - 2s 6ms/step - loss: 0.6119 - accuracy: 0.6722 - val_loss: 0.5992 - val_accuracy: 0.6613\n",
      "563/563 [==============================] - 1s 1ms/step\n",
      "250/250 [==============================] - 1s 6ms/step - loss: 0.6071 - accuracy: 0.6783 - val_loss: 0.6034 - val_accuracy: 0.6599\n",
      "563/563 [==============================] - 1s 1ms/step\n",
      "226/226 [==============================] - 1s 6ms/step - loss: 0.6085 - accuracy: 0.6817 - val_loss: 0.6093 - val_accuracy: 0.6515\n",
      "563/563 [==============================] - 1s 1ms/step\n",
      "18060\n",
      "Epoch 1/3\n",
      "422/422 [==============================] - 2s 5ms/step - loss: 0.6344 - accuracy: 0.6591\n",
      "Epoch 2/3\n",
      "422/422 [==============================] - 2s 5ms/step - loss: 0.6355 - accuracy: 0.6577\n",
      "Epoch 3/3\n",
      "422/422 [==============================] - 2s 5ms/step - loss: 0.6315 - accuracy: 0.6574\n",
      "313/313 [==============================] - 0s 1ms/step - loss: 0.7567 - accuracy: 0.5607\n"
     ]
    }
   ],
   "source": [
    "def heuristicPrunedSubsetMethod(x_train, y_train, model, batch_size, epochs, validation_split, noise_probability):\n",
    "    num_samples = x_train.shape[0]\n",
    "    validation_size = int(num_samples * validation_split)\n",
    "    pruned_indexes = set()\n",
    "\n",
    "    x_val = x_train[:validation_size]\n",
    "    y_val = y_train[:validation_size]\n",
    "\n",
    "    for epoch in range(epochs):\n",
    "\n",
    "        model.fit(x_train, y_train, batch_size=batch_size, epochs=1, validation_split=validation_split)\n",
    "\n",
    "        predictions = model.predict(x_val)\n",
    "        prediction_errors = np.abs(predictions - y_val)\n",
    "        worst_performing_indexes = np.argsort(-prediction_errors.ravel())[:int(validation_size * noise_probability)]\n",
    "\n",
    "        for idx in worst_performing_indexes:\n",
    "            pruned_indexes.add(idx)\n",
    "\n",
    "        x_train, y_train = prune_points(x_train, y_train, pruned_indexes)\n",
    "    print(len(pruned_indexes))\n",
    "    return pruned_indexes\n",
    "pruned_indexes = heuristicPrunedSubsetMethod(x_train, y_train_onehot, model, 128, 5, 0.3, 0.8)\n",
    "trainAndEvaluateModel(x_train, y_train_onehot, x_test, y_test_onehot, model, pruned_indexes)"
   ]
  },
  {
   "cell_type": "code",
   "execution_count": null,
   "id": "4690d80e",
   "metadata": {},
   "outputs": [],
   "source": []
  }
 ],
 "metadata": {
  "accelerator": "GPU",
  "colab": {
   "gpuType": "T4",
   "provenance": []
  },
  "kernelspec": {
   "display_name": "Python 3 (ipykernel)",
   "language": "python",
   "name": "python3"
  },
  "language_info": {
   "codemirror_mode": {
    "name": "ipython",
    "version": 3
   },
   "file_extension": ".py",
   "mimetype": "text/x-python",
   "name": "python",
   "nbconvert_exporter": "python",
   "pygments_lexer": "ipython3",
   "version": "3.10.9"
  }
 },
 "nbformat": 4,
 "nbformat_minor": 5
}
